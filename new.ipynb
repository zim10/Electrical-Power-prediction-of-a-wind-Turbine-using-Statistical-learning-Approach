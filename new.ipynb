{
  "nbformat": 4,
  "nbformat_minor": 0,
  "metadata": {
    "colab": {
      "provenance": [],
      "authorship_tag": "ABX9TyON+IZK6DPux84t5PG/OMyX",
      "include_colab_link": true
    },
    "kernelspec": {
      "name": "ir",
      "display_name": "R"
    },
    "language_info": {
      "name": "R"
    }
  },
  "cells": [
    {
      "cell_type": "markdown",
      "metadata": {
        "id": "view-in-github",
        "colab_type": "text"
      },
      "source": [
        "<a href=\"https://colab.research.google.com/github/zim10/Electrical-Power-prediction-of-a-wind-Turbine-using-Statistical-learning-Approach/blob/main/new.ipynb\" target=\"_parent\"><img src=\"https://colab.research.google.com/assets/colab-badge.svg\" alt=\"Open In Colab\"/></a>"
      ]
    },
    {
      "cell_type": "code",
      "execution_count": 3,
      "metadata": {
        "colab": {
          "base_uri": "https://localhost:8080/",
          "height": 1000
        },
        "id": "u9_jWQJFjerB",
        "outputId": "332656f7-d16d-4d92-a75e-2fa18ffb20a0"
      },
      "outputs": [
        {
          "output_type": "display_data",
          "data": {
            "text/html": [
              "<style>\n",
              ".list-inline {list-style: none; margin:0; padding: 0}\n",
              ".list-inline>li {display: inline-block}\n",
              ".list-inline>li:not(:last-child)::after {content: \"\\00b7\"; padding: 0 .5ex}\n",
              "</style>\n",
              "<ol class=list-inline><li>9600</li><li>13</li></ol>\n"
            ],
            "text/markdown": "1. 9600\n2. 13\n\n\n",
            "text/latex": "\\begin{enumerate*}\n\\item 9600\n\\item 13\n\\end{enumerate*}\n",
            "text/plain": [
              "[1] 9600   13"
            ]
          },
          "metadata": {}
        },
        {
          "output_type": "display_data",
          "data": {
            "text/html": [
              "<style>\n",
              ".list-inline {list-style: none; margin:0; padding: 0}\n",
              ".list-inline>li {display: inline-block}\n",
              ".list-inline>li:not(:last-child)::after {content: \"\\00b7\"; padding: 0 .5ex}\n",
              "</style>\n",
              "<ol class=list-inline><li>2400</li><li>13</li></ol>\n"
            ],
            "text/markdown": "1. 2400\n2. 13\n\n\n",
            "text/latex": "\\begin{enumerate*}\n\\item 2400\n\\item 13\n\\end{enumerate*}\n",
            "text/plain": [
              "[1] 2400   13"
            ]
          },
          "metadata": {}
        },
        {
          "output_type": "display_data",
          "data": {
            "text/plain": [
              "\n",
              "Call:\n",
              "lm(formula = P_avg ~ Ws_avg, data = turbine.train)\n",
              "\n",
              "Residuals:\n",
              "    Min      1Q  Median      3Q     Max \n",
              "-663.29 -104.52  -34.49   58.52  899.25 \n",
              "\n",
              "Coefficients:\n",
              "             Estimate Std. Error t value Pr(>|t|)    \n",
              "(Intercept) -256.4872     3.2646  -78.57   <2e-16 ***\n",
              "Ws_avg       102.6241     0.7058  145.39   <2e-16 ***\n",
              "---\n",
              "Signif. codes:  0 ‘***’ 0.001 ‘**’ 0.01 ‘*’ 0.05 ‘.’ 0.1 ‘ ’ 1\n",
              "\n",
              "Residual standard error: 144.9 on 9598 degrees of freedom\n",
              "Multiple R-squared:  0.6877,\tAdjusted R-squared:  0.6877 \n",
              "F-statistic: 2.114e+04 on 1 and 9598 DF,  p-value: < 2.2e-16\n"
            ]
          },
          "metadata": {}
        },
        {
          "output_type": "display_data",
          "data": {
            "text/html": [
              "<style>\n",
              ".dl-inline {width: auto; margin:0; padding: 0}\n",
              ".dl-inline>dt, .dl-inline>dd {float: none; width: auto; display: inline-block}\n",
              ".dl-inline>dt::after {content: \":\\0020\"; padding-right: .5ex}\n",
              ".dl-inline>dt:not(:first-of-type) {padding-left: .5ex}\n",
              "</style><dl class=dl-inline><dt>(Intercept)</dt><dd>-256.487231875005</dd><dt>Ws_avg</dt><dd>102.624135489357</dd></dl>\n"
            ],
            "text/markdown": "(Intercept)\n:   -256.487231875005Ws_avg\n:   102.624135489357\n\n",
            "text/latex": "\\begin{description*}\n\\item[(Intercept)] -256.487231875005\n\\item[Ws\\textbackslash{}\\_avg] 102.624135489357\n\\end{description*}\n",
            "text/plain": [
              "(Intercept)      Ws_avg \n",
              "  -256.4872    102.6241 "
            ]
          },
          "metadata": {}
        },
        {
          "output_type": "display_data",
          "data": {
            "text/html": [
              "<table class=\"dataframe\">\n",
              "<caption>A matrix: 2 × 2 of type dbl</caption>\n",
              "<thead>\n",
              "\t<tr><th></th><th scope=col>2.5 %</th><th scope=col>97.5 %</th></tr>\n",
              "</thead>\n",
              "<tbody>\n",
              "\t<tr><th scope=row>(Intercept)</th><td>-262.8864</td><td>-250.0880</td></tr>\n",
              "\t<tr><th scope=row>Ws_avg</th><td> 101.2405</td><td> 104.0077</td></tr>\n",
              "</tbody>\n",
              "</table>\n"
            ],
            "text/markdown": "\nA matrix: 2 × 2 of type dbl\n\n| <!--/--> | 2.5 % | 97.5 % |\n|---|---|---|\n| (Intercept) | -262.8864 | -250.0880 |\n| Ws_avg |  101.2405 |  104.0077 |\n\n",
            "text/latex": "A matrix: 2 × 2 of type dbl\n\\begin{tabular}{r|ll}\n  & 2.5 \\% & 97.5 \\%\\\\\n\\hline\n\t(Intercept) & -262.8864 & -250.0880\\\\\n\tWs\\_avg &  101.2405 &  104.0077\\\\\n\\end{tabular}\n",
            "text/plain": [
              "            2.5 %     97.5 %   \n",
              "(Intercept) -262.8864 -250.0880\n",
              "Ws_avg       101.2405  104.0077"
            ]
          },
          "metadata": {}
        },
        {
          "output_type": "display_data",
          "data": {
            "text/html": [
              "<table class=\"dataframe\">\n",
              "<caption>A matrix: 2400 × 3 of type dbl</caption>\n",
              "<thead>\n",
              "\t<tr><th></th><th scope=col>fit</th><th scope=col>lwr</th><th scope=col>upr</th></tr>\n",
              "</thead>\n",
              "<tbody>\n",
              "\t<tr><th scope=row>13</th><td>696.8910</td><td>689.1773</td><td>704.6047</td></tr>\n",
              "\t<tr><th scope=row>17</th><td>716.3895</td><td>708.4316</td><td>724.3474</td></tr>\n",
              "\t<tr><th scope=row>26</th><td>716.3895</td><td>708.4316</td><td>724.3474</td></tr>\n",
              "\t<tr><th scope=row>31</th><td>611.7130</td><td>605.0495</td><td>618.3764</td></tr>\n",
              "\t<tr><th scope=row>35</th><td>548.0860</td><td>542.1832</td><td>553.9888</td></tr>\n",
              "\t<tr><th scope=row>37</th><td>602.4768</td><td>595.9253</td><td>609.0283</td></tr>\n",
              "\t<tr><th scope=row>42</th><td>491.6427</td><td>486.3896</td><td>496.8959</td></tr>\n",
              "\t<tr><th scope=row>43</th><td>516.2725</td><td>510.7394</td><td>521.8057</td></tr>\n",
              "\t<tr><th scope=row>51</th><td>612.7392</td><td>606.0633</td><td>619.4151</td></tr>\n",
              "\t<tr><th scope=row>59</th><td>534.7449</td><td>528.9981</td><td>540.4916</td></tr>\n",
              "\t<tr><th scope=row>63</th><td>598.3718</td><td>591.8699</td><td>604.8737</td></tr>\n",
              "\t<tr><th scope=row>65</th><td>493.6952</td><td>488.4189</td><td>498.9714</td></tr>\n",
              "\t<tr><th scope=row>67</th><td>611.7130</td><td>605.0495</td><td>618.3764</td></tr>\n",
              "\t<tr><th scope=row>69</th><td>534.7449</td><td>528.9981</td><td>540.4916</td></tr>\n",
              "\t<tr><th scope=row>71</th><td>475.2229</td><td>470.1529</td><td>480.2929</td></tr>\n",
              "\t<tr><th scope=row>75</th><td>557.3221</td><td>551.3106</td><td>563.3337</td></tr>\n",
              "\t<tr><th scope=row>85</th><td>671.2350</td><td>663.8407</td><td>678.6292</td></tr>\n",
              "\t<tr><th scope=row>86</th><td>656.8675</td><td>649.6511</td><td>664.0840</td></tr>\n",
              "\t<tr><th scope=row>96</th><td>759.4917</td><td>750.9899</td><td>767.9934</td></tr>\n",
              "\t<tr><th scope=row>104</th><td>757.4392</td><td>748.9635</td><td>765.9150</td></tr>\n",
              "\t<tr><th scope=row>115</th><td>760.5179</td><td>752.0032</td><td>769.0327</td></tr>\n",
              "\t<tr><th scope=row>119</th><td>738.9669</td><td>730.7247</td><td>747.2090</td></tr>\n",
              "\t<tr><th scope=row>124</th><td>802.5938</td><td>793.5436</td><td>811.6441</td></tr>\n",
              "\t<tr><th scope=row>142</th><td>775.9116</td><td>767.2014</td><td>784.6218</td></tr>\n",
              "\t<tr><th scope=row>145</th><td>932.9265</td><td>922.1969</td><td>943.6561</td></tr>\n",
              "\t<tr><th scope=row>153</th><td>839.5385</td><td>830.0151</td><td>849.0620</td></tr>\n",
              "\t<tr><th scope=row>157</th><td>800.5414</td><td>791.5174</td><td>809.5654</td></tr>\n",
              "\t<tr><th scope=row>160</th><td>798.4889</td><td>789.4911</td><td>807.4867</td></tr>\n",
              "\t<tr><th scope=row>164</th><td>803.6201</td><td>794.5568</td><td>812.6834</td></tr>\n",
              "\t<tr><th scope=row>165</th><td>787.2002</td><td>778.3464</td><td>796.0541</td></tr>\n",
              "\t<tr><th scope=row>⋮</th><td>⋮</td><td>⋮</td><td>⋮</td></tr>\n",
              "\t<tr><th scope=row>11837</th><td>367.46750</td><td>363.50156</td><td>371.43344</td></tr>\n",
              "\t<tr><th scope=row>11847</th><td>342.83774</td><td>339.09060</td><td>346.58488</td></tr>\n",
              "\t<tr><th scope=row>11848</th><td>315.12922</td><td>311.60699</td><td>318.65146</td></tr>\n",
              "\t<tr><th scope=row>11860</th><td>248.42352</td><td>245.32272</td><td>251.52433</td></tr>\n",
              "\t<tr><th scope=row>11866</th><td>313.07674</td><td>309.57016</td><td>316.58333</td></tr>\n",
              "\t<tr><th scope=row>11870</th><td>313.07674</td><td>309.57016</td><td>316.58333</td></tr>\n",
              "\t<tr><th scope=row>11877</th><td>291.52567</td><td>288.17402</td><td>294.87732</td></tr>\n",
              "\t<tr><th scope=row>11881</th><td>323.33914</td><td>319.75286</td><td>326.92543</td></tr>\n",
              "\t<tr><th scope=row>11885</th><td>457.77675</td><td>452.89789</td><td>462.65561</td></tr>\n",
              "\t<tr><th scope=row>11891</th><td>434.17320</td><td>429.54646</td><td>438.79994</td></tr>\n",
              "\t<tr><th scope=row>11896</th><td>387.99236</td><td>383.83262</td><td>392.15210</td></tr>\n",
              "\t<tr><th scope=row>11902</th><td>286.39444</td><td>283.07700</td><td>289.71189</td></tr>\n",
              "\t<tr><th scope=row>11912</th><td>316.15543</td><td>312.62532</td><td>319.68555</td></tr>\n",
              "\t<tr><th scope=row>11916</th><td>294.60437</td><td>291.23168</td><td>297.97705</td></tr>\n",
              "\t<tr><th scope=row>11918</th><td>276.13204</td><td>272.87966</td><td>279.38442</td></tr>\n",
              "\t<tr><th scope=row>11919</th><td>-26.60917</td><td>-30.50678</td><td>-22.71156</td></tr>\n",
              "\t<tr><th scope=row>11928</th><td>171.45542</td><td>168.55637</td><td>174.35447</td></tr>\n",
              "\t<tr><th scope=row>11940</th><td>226.87245</td><td>223.86264</td><td>229.88226</td></tr>\n",
              "\t<tr><th scope=row>11941</th><td>214.55757</td><td>211.58822</td><td>217.52692</td></tr>\n",
              "\t<tr><th scope=row>11948</th><td>-35.84533</td><td>-39.82727</td><td>-31.86339</td></tr>\n",
              "\t<tr><th scope=row>11955</th><td>215.58378</td><td>212.61139</td><td>218.55617</td></tr>\n",
              "\t<tr><th scope=row>11956</th><td>229.95115</td><td>226.92988</td><td>232.97242</td></tr>\n",
              "\t<tr><th scope=row>11967</th><td>179.66534</td><td>176.76173</td><td>182.56896</td></tr>\n",
              "\t<tr><th scope=row>11969</th><td>264.84337</td><td>261.65715</td><td>268.02958</td></tr>\n",
              "\t<tr><th scope=row>11970</th><td> 44.20150</td><td> 40.86578</td><td> 47.53721</td></tr>\n",
              "\t<tr><th scope=row>11972</th><td>262.79088</td><td>259.61607</td><td>265.96570</td></tr>\n",
              "\t<tr><th scope=row>11986</th><td> 63.70006</td><td> 60.48635</td><td> 66.91377</td></tr>\n",
              "\t<tr><th scope=row>11987</th><td>373.62495</td><td>369.60189</td><td>377.64801</td></tr>\n",
              "\t<tr><th scope=row>11994</th><td> 79.09369</td><td> 75.96404</td><td> 82.22334</td></tr>\n",
              "\t<tr><th scope=row>11995</th><td>361.31006</td><td>357.40032</td><td>365.21981</td></tr>\n",
              "</tbody>\n",
              "</table>\n"
            ],
            "text/markdown": "\nA matrix: 2400 × 3 of type dbl\n\n| <!--/--> | fit | lwr | upr |\n|---|---|---|---|\n| 13 | 696.8910 | 689.1773 | 704.6047 |\n| 17 | 716.3895 | 708.4316 | 724.3474 |\n| 26 | 716.3895 | 708.4316 | 724.3474 |\n| 31 | 611.7130 | 605.0495 | 618.3764 |\n| 35 | 548.0860 | 542.1832 | 553.9888 |\n| 37 | 602.4768 | 595.9253 | 609.0283 |\n| 42 | 491.6427 | 486.3896 | 496.8959 |\n| 43 | 516.2725 | 510.7394 | 521.8057 |\n| 51 | 612.7392 | 606.0633 | 619.4151 |\n| 59 | 534.7449 | 528.9981 | 540.4916 |\n| 63 | 598.3718 | 591.8699 | 604.8737 |\n| 65 | 493.6952 | 488.4189 | 498.9714 |\n| 67 | 611.7130 | 605.0495 | 618.3764 |\n| 69 | 534.7449 | 528.9981 | 540.4916 |\n| 71 | 475.2229 | 470.1529 | 480.2929 |\n| 75 | 557.3221 | 551.3106 | 563.3337 |\n| 85 | 671.2350 | 663.8407 | 678.6292 |\n| 86 | 656.8675 | 649.6511 | 664.0840 |\n| 96 | 759.4917 | 750.9899 | 767.9934 |\n| 104 | 757.4392 | 748.9635 | 765.9150 |\n| 115 | 760.5179 | 752.0032 | 769.0327 |\n| 119 | 738.9669 | 730.7247 | 747.2090 |\n| 124 | 802.5938 | 793.5436 | 811.6441 |\n| 142 | 775.9116 | 767.2014 | 784.6218 |\n| 145 | 932.9265 | 922.1969 | 943.6561 |\n| 153 | 839.5385 | 830.0151 | 849.0620 |\n| 157 | 800.5414 | 791.5174 | 809.5654 |\n| 160 | 798.4889 | 789.4911 | 807.4867 |\n| 164 | 803.6201 | 794.5568 | 812.6834 |\n| 165 | 787.2002 | 778.3464 | 796.0541 |\n| ⋮ | ⋮ | ⋮ | ⋮ |\n| 11837 | 367.46750 | 363.50156 | 371.43344 |\n| 11847 | 342.83774 | 339.09060 | 346.58488 |\n| 11848 | 315.12922 | 311.60699 | 318.65146 |\n| 11860 | 248.42352 | 245.32272 | 251.52433 |\n| 11866 | 313.07674 | 309.57016 | 316.58333 |\n| 11870 | 313.07674 | 309.57016 | 316.58333 |\n| 11877 | 291.52567 | 288.17402 | 294.87732 |\n| 11881 | 323.33914 | 319.75286 | 326.92543 |\n| 11885 | 457.77675 | 452.89789 | 462.65561 |\n| 11891 | 434.17320 | 429.54646 | 438.79994 |\n| 11896 | 387.99236 | 383.83262 | 392.15210 |\n| 11902 | 286.39444 | 283.07700 | 289.71189 |\n| 11912 | 316.15543 | 312.62532 | 319.68555 |\n| 11916 | 294.60437 | 291.23168 | 297.97705 |\n| 11918 | 276.13204 | 272.87966 | 279.38442 |\n| 11919 | -26.60917 | -30.50678 | -22.71156 |\n| 11928 | 171.45542 | 168.55637 | 174.35447 |\n| 11940 | 226.87245 | 223.86264 | 229.88226 |\n| 11941 | 214.55757 | 211.58822 | 217.52692 |\n| 11948 | -35.84533 | -39.82727 | -31.86339 |\n| 11955 | 215.58378 | 212.61139 | 218.55617 |\n| 11956 | 229.95115 | 226.92988 | 232.97242 |\n| 11967 | 179.66534 | 176.76173 | 182.56896 |\n| 11969 | 264.84337 | 261.65715 | 268.02958 |\n| 11970 |  44.20150 |  40.86578 |  47.53721 |\n| 11972 | 262.79088 | 259.61607 | 265.96570 |\n| 11986 |  63.70006 |  60.48635 |  66.91377 |\n| 11987 | 373.62495 | 369.60189 | 377.64801 |\n| 11994 |  79.09369 |  75.96404 |  82.22334 |\n| 11995 | 361.31006 | 357.40032 | 365.21981 |\n\n",
            "text/latex": "A matrix: 2400 × 3 of type dbl\n\\begin{tabular}{r|lll}\n  & fit & lwr & upr\\\\\n\\hline\n\t13 & 696.8910 & 689.1773 & 704.6047\\\\\n\t17 & 716.3895 & 708.4316 & 724.3474\\\\\n\t26 & 716.3895 & 708.4316 & 724.3474\\\\\n\t31 & 611.7130 & 605.0495 & 618.3764\\\\\n\t35 & 548.0860 & 542.1832 & 553.9888\\\\\n\t37 & 602.4768 & 595.9253 & 609.0283\\\\\n\t42 & 491.6427 & 486.3896 & 496.8959\\\\\n\t43 & 516.2725 & 510.7394 & 521.8057\\\\\n\t51 & 612.7392 & 606.0633 & 619.4151\\\\\n\t59 & 534.7449 & 528.9981 & 540.4916\\\\\n\t63 & 598.3718 & 591.8699 & 604.8737\\\\\n\t65 & 493.6952 & 488.4189 & 498.9714\\\\\n\t67 & 611.7130 & 605.0495 & 618.3764\\\\\n\t69 & 534.7449 & 528.9981 & 540.4916\\\\\n\t71 & 475.2229 & 470.1529 & 480.2929\\\\\n\t75 & 557.3221 & 551.3106 & 563.3337\\\\\n\t85 & 671.2350 & 663.8407 & 678.6292\\\\\n\t86 & 656.8675 & 649.6511 & 664.0840\\\\\n\t96 & 759.4917 & 750.9899 & 767.9934\\\\\n\t104 & 757.4392 & 748.9635 & 765.9150\\\\\n\t115 & 760.5179 & 752.0032 & 769.0327\\\\\n\t119 & 738.9669 & 730.7247 & 747.2090\\\\\n\t124 & 802.5938 & 793.5436 & 811.6441\\\\\n\t142 & 775.9116 & 767.2014 & 784.6218\\\\\n\t145 & 932.9265 & 922.1969 & 943.6561\\\\\n\t153 & 839.5385 & 830.0151 & 849.0620\\\\\n\t157 & 800.5414 & 791.5174 & 809.5654\\\\\n\t160 & 798.4889 & 789.4911 & 807.4867\\\\\n\t164 & 803.6201 & 794.5568 & 812.6834\\\\\n\t165 & 787.2002 & 778.3464 & 796.0541\\\\\n\t⋮ & ⋮ & ⋮ & ⋮\\\\\n\t11837 & 367.46750 & 363.50156 & 371.43344\\\\\n\t11847 & 342.83774 & 339.09060 & 346.58488\\\\\n\t11848 & 315.12922 & 311.60699 & 318.65146\\\\\n\t11860 & 248.42352 & 245.32272 & 251.52433\\\\\n\t11866 & 313.07674 & 309.57016 & 316.58333\\\\\n\t11870 & 313.07674 & 309.57016 & 316.58333\\\\\n\t11877 & 291.52567 & 288.17402 & 294.87732\\\\\n\t11881 & 323.33914 & 319.75286 & 326.92543\\\\\n\t11885 & 457.77675 & 452.89789 & 462.65561\\\\\n\t11891 & 434.17320 & 429.54646 & 438.79994\\\\\n\t11896 & 387.99236 & 383.83262 & 392.15210\\\\\n\t11902 & 286.39444 & 283.07700 & 289.71189\\\\\n\t11912 & 316.15543 & 312.62532 & 319.68555\\\\\n\t11916 & 294.60437 & 291.23168 & 297.97705\\\\\n\t11918 & 276.13204 & 272.87966 & 279.38442\\\\\n\t11919 & -26.60917 & -30.50678 & -22.71156\\\\\n\t11928 & 171.45542 & 168.55637 & 174.35447\\\\\n\t11940 & 226.87245 & 223.86264 & 229.88226\\\\\n\t11941 & 214.55757 & 211.58822 & 217.52692\\\\\n\t11948 & -35.84533 & -39.82727 & -31.86339\\\\\n\t11955 & 215.58378 & 212.61139 & 218.55617\\\\\n\t11956 & 229.95115 & 226.92988 & 232.97242\\\\\n\t11967 & 179.66534 & 176.76173 & 182.56896\\\\\n\t11969 & 264.84337 & 261.65715 & 268.02958\\\\\n\t11970 &  44.20150 &  40.86578 &  47.53721\\\\\n\t11972 & 262.79088 & 259.61607 & 265.96570\\\\\n\t11986 &  63.70006 &  60.48635 &  66.91377\\\\\n\t11987 & 373.62495 & 369.60189 & 377.64801\\\\\n\t11994 &  79.09369 &  75.96404 &  82.22334\\\\\n\t11995 & 361.31006 & 357.40032 & 365.21981\\\\\n\\end{tabular}\n",
            "text/plain": [
              "      fit       lwr       upr      \n",
              "13    696.8910  689.1773  704.6047 \n",
              "17    716.3895  708.4316  724.3474 \n",
              "26    716.3895  708.4316  724.3474 \n",
              "31    611.7130  605.0495  618.3764 \n",
              "35    548.0860  542.1832  553.9888 \n",
              "37    602.4768  595.9253  609.0283 \n",
              "42    491.6427  486.3896  496.8959 \n",
              "43    516.2725  510.7394  521.8057 \n",
              "51    612.7392  606.0633  619.4151 \n",
              "59    534.7449  528.9981  540.4916 \n",
              "63    598.3718  591.8699  604.8737 \n",
              "65    493.6952  488.4189  498.9714 \n",
              "67    611.7130  605.0495  618.3764 \n",
              "69    534.7449  528.9981  540.4916 \n",
              "71    475.2229  470.1529  480.2929 \n",
              "75    557.3221  551.3106  563.3337 \n",
              "85    671.2350  663.8407  678.6292 \n",
              "86    656.8675  649.6511  664.0840 \n",
              "96    759.4917  750.9899  767.9934 \n",
              "104   757.4392  748.9635  765.9150 \n",
              "115   760.5179  752.0032  769.0327 \n",
              "119   738.9669  730.7247  747.2090 \n",
              "124   802.5938  793.5436  811.6441 \n",
              "142   775.9116  767.2014  784.6218 \n",
              "145   932.9265  922.1969  943.6561 \n",
              "153   839.5385  830.0151  849.0620 \n",
              "157   800.5414  791.5174  809.5654 \n",
              "160   798.4889  789.4911  807.4867 \n",
              "164   803.6201  794.5568  812.6834 \n",
              "165   787.2002  778.3464  796.0541 \n",
              "⋮     ⋮         ⋮         ⋮        \n",
              "11837 367.46750 363.50156 371.43344\n",
              "11847 342.83774 339.09060 346.58488\n",
              "11848 315.12922 311.60699 318.65146\n",
              "11860 248.42352 245.32272 251.52433\n",
              "11866 313.07674 309.57016 316.58333\n",
              "11870 313.07674 309.57016 316.58333\n",
              "11877 291.52567 288.17402 294.87732\n",
              "11881 323.33914 319.75286 326.92543\n",
              "11885 457.77675 452.89789 462.65561\n",
              "11891 434.17320 429.54646 438.79994\n",
              "11896 387.99236 383.83262 392.15210\n",
              "11902 286.39444 283.07700 289.71189\n",
              "11912 316.15543 312.62532 319.68555\n",
              "11916 294.60437 291.23168 297.97705\n",
              "11918 276.13204 272.87966 279.38442\n",
              "11919 -26.60917 -30.50678 -22.71156\n",
              "11928 171.45542 168.55637 174.35447\n",
              "11940 226.87245 223.86264 229.88226\n",
              "11941 214.55757 211.58822 217.52692\n",
              "11948 -35.84533 -39.82727 -31.86339\n",
              "11955 215.58378 212.61139 218.55617\n",
              "11956 229.95115 226.92988 232.97242\n",
              "11967 179.66534 176.76173 182.56896\n",
              "11969 264.84337 261.65715 268.02958\n",
              "11970  44.20150  40.86578  47.53721\n",
              "11972 262.79088 259.61607 265.96570\n",
              "11986  63.70006  60.48635  66.91377\n",
              "11987 373.62495 369.60189 377.64801\n",
              "11994  79.09369  75.96404  82.22334\n",
              "11995 361.31006 357.40032 365.21981"
            ]
          },
          "metadata": {}
        },
        {
          "output_type": "display_data",
          "data": {
            "text/html": [
              "<style>\n",
              ".dl-inline {width: auto; margin:0; padding: 0}\n",
              ".dl-inline>dt, .dl-inline>dd {float: none; width: auto; display: inline-block}\n",
              ".dl-inline>dt::after {content: \":\\0020\"; padding-right: .5ex}\n",
              ".dl-inline>dt:not(:first-of-type) {padding-left: .5ex}\n",
              "</style><dl class=dl-inline><dt>RMSE</dt><dd>142.895935515868</dd><dt>R2</dt><dd>0.684422638829142</dd></dl>\n"
            ],
            "text/markdown": "RMSE\n:   142.895935515868R2\n:   0.684422638829142\n\n",
            "text/latex": "\\begin{description*}\n\\item[RMSE] 142.895935515868\n\\item[R2] 0.684422638829142\n\\end{description*}\n",
            "text/plain": [
              "       RMSE          R2 \n",
              "142.8959355   0.6844226 "
            ]
          },
          "metadata": {}
        },
        {
          "output_type": "display_data",
          "data": {
            "text/plain": [
              "\n",
              "Call:\n",
              "lm(formula = P_avg ~ Ws_avg * Wa_avg, data = turbine.train)\n",
              "\n",
              "Residuals:\n",
              "    Min      1Q  Median      3Q     Max \n",
              "-683.04 -101.72  -35.50   59.31  901.57 \n",
              "\n",
              "Coefficients:\n",
              "                Estimate Std. Error t value Pr(>|t|)    \n",
              "(Intercept)   -2.803e+02  7.821e+00 -35.838  < 2e-16 ***\n",
              "Ws_avg         1.024e+02  1.812e+00  56.512  < 2e-16 ***\n",
              "Wa_avg         1.202e-01  3.414e-02   3.519 0.000435 ***\n",
              "Ws_avg:Wa_avg  1.289e-03  7.991e-03   0.161 0.871863    \n",
              "---\n",
              "Signif. codes:  0 ‘***’ 0.001 ‘**’ 0.01 ‘*’ 0.05 ‘.’ 0.1 ‘ ’ 1\n",
              "\n",
              "Residual standard error: 144.3 on 9596 degrees of freedom\n",
              "Multiple R-squared:  0.6901,\tAdjusted R-squared:   0.69 \n",
              "F-statistic:  7123 on 3 and 9596 DF,  p-value: < 2.2e-16\n"
            ]
          },
          "metadata": {}
        },
        {
          "output_type": "display_data",
          "data": {
            "text/plain": [
              "plot without title"
            ],
            "image/png": "[encoded data removed]"
          },
          "metadata": {
            "image/png": {
              "width": 420,
              "height": 420
            }
          }
        }
      ],
      "source": [
        "## Loading Data\n",
        "turbine <- read.csv(\"/content/turbine_dataset.csv\", na.strings = \"?\", stringsAsFactors = T)\n",
        "#View(turbine)\n",
        "#Split the turbine data set (80% as a training data), 20% as a testing data\n",
        "index <- sample(nrow(turbine), nrow(turbine) * 0.80)\n",
        "turbine.train <- turbine[index, ]\n",
        "turbine.test <- turbine[-index, ]\n",
        "dim(turbine.train)\n",
        "dim(turbine.test)\n",
        "set.seed(1)\n",
        "library(ISLR)\n",
        "attach (turbine.train)\n",
        "lm.fit=lm(P_avg~Ws_avg,data=turbine.train)\n",
        "summary(lm.fit)\n",
        "coef(lm.fit)\n",
        "confint(lm.fit)\n",
        "predict(lm.fit,turbine.test, interval=\"confidence\")\n",
        "#95% confidence interval associated with a wind_speed value of 10 is (1093,1100)\n",
        "plot(Ws_avg,P_avg)\n",
        "\n",
        "#prediction on test data\n",
        "pred1 <- predict(lm.fit, newdata = turbine.test)\n",
        "rmse <- sqrt(sum((pred1 - turbine.test$P_avg)^2)/length(turbine.test$P_avg))\n",
        "c(RMSE = rmse, R2=cor(pred1, turbine.test$P_avg) ^ 2)\n",
        "\n",
        "#adding interaction with simple linear model\n",
        "# Interaction Terms\n",
        "summary(lm(P_avg~Ws_avg*Wa_avg,data=turbine.train))"
      ]
    },
    {
      "cell_type": "code",
      "source": [
        "install.packages('ISLR')"
      ],
      "metadata": {
        "colab": {
          "base_uri": "https://localhost:8080/"
        },
        "id": "Pr9JDcMRj5aZ",
        "outputId": "1ac9455a-3567-4ea3-fbcf-2ce9ea7a7c50"
      },
      "execution_count": 2,
      "outputs": [
        {
          "output_type": "stream",
          "name": "stderr",
          "text": [
            "Installing package into ‘/usr/local/lib/R/site-library’\n",
            "(as ‘lib’ is unspecified)\n",
            "\n"
          ]
        }
      ]
    }
  ]
}